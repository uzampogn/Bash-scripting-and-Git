{
 "cells": [
  {
   "cell_type": "markdown",
   "id": "fee8cdc4",
   "metadata": {},
   "source": [
    "https://www.davidbaumgold.com/tutorials/command-line/#mac-os-x"
   ]
  },
  {
   "cell_type": "markdown",
   "id": "3be3ff0e",
   "metadata": {},
   "source": [
    "#### Command lines - utilities"
   ]
  },
  {
   "cell_type": "markdown",
   "id": "2b45e92b",
   "metadata": {},
   "source": [
    "- ls = list\n",
    "- ls -lrS = list reverse order\n",
    "\n",
    "- cd = change directory (press tab for auto completion)\n",
    "- cd ../ = change to parent directory\n",
    "- cd ~ = change to home directory\n",
    "\n",
    "- pwd = print working directory\n",
    "\n",
    "- clear = clear terminal window\n",
    "- Q = Quit\n",
    "\n",
    "- mkdir = make directory\n",
    "- rmdir = remove directory\n",
    "\n",
    "- touch = create file\n",
    "- rm = remove file\n",
    "\n",
    "- cp file_name directory_name = copy file\n",
    "\n",
    "- mv file_name directory_name = move file\n",
    "- mv *IDENTIFIER* ~/YourPath/ = move multiple files with same name\n",
    "- mv  -v ~/Downloads/* ~/Videos/ = moving all files from one folder to the other\n",
    "\n",
    "- sudo = super user do\n"
   ]
  },
  {
   "cell_type": "markdown",
   "id": "94772f2e",
   "metadata": {},
   "source": [
    "The '~' is shorthand for your Home directory, so '~/Documents' is the Documents folder in your Home folder. "
   ]
  },
  {
   "cell_type": "markdown",
   "id": "5642517b",
   "metadata": {},
   "source": []
  },
  {
   "cell_type": "markdown",
   "id": "8ee7b516",
   "metadata": {},
   "source": []
  },
  {
   "cell_type": "markdown",
   "id": "35309196",
   "metadata": {},
   "source": []
  },
  {
   "cell_type": "markdown",
   "id": "95bc015b",
   "metadata": {},
   "source": []
  },
  {
   "cell_type": "markdown",
   "id": "45f510ca",
   "metadata": {},
   "source": []
  },
  {
   "cell_type": "markdown",
   "id": "853a0504",
   "metadata": {},
   "source": []
  },
  {
   "cell_type": "markdown",
   "id": "1e26e953",
   "metadata": {},
   "source": []
  },
  {
   "cell_type": "markdown",
   "id": "aafc13c7",
   "metadata": {},
   "source": []
  }
 ],
 "metadata": {
  "kernelspec": {
   "display_name": "Python 3",
   "language": "python",
   "name": "python3"
  },
  "language_info": {
   "codemirror_mode": {
    "name": "ipython",
    "version": 3
   },
   "file_extension": ".py",
   "mimetype": "text/x-python",
   "name": "python",
   "nbconvert_exporter": "python",
   "pygments_lexer": "ipython3",
   "version": "3.9.4"
  }
 },
 "nbformat": 4,
 "nbformat_minor": 5
}
