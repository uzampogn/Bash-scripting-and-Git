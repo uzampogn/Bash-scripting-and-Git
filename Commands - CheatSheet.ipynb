{
 "cells": [
  {
   "cell_type": "markdown",
   "id": "fee8cdc4",
   "metadata": {},
   "source": [
    "Ressources:\n",
    "- https://www.davidbaumgold.com/tutorials/command-line/#mac-os-x\n",
    "- https://datasciencepractice.study/unix-systems.html\n",
    "- https://seankross.com/the-unix-workbench/working-with-unix.html"
   ]
  },
  {
   "cell_type": "markdown",
   "id": "3be3ff0e",
   "metadata": {},
   "source": [
    "## Command lines"
   ]
  },
  {
   "cell_type": "markdown",
   "id": "2b45e92b",
   "metadata": {},
   "source": [
    "### BASH\n",
    "\n",
    "#### Terminal\n",
    "- clear = clear terminal window\n",
    "- Q = Quit\n",
    "\n",
    "#### Helper\n",
    "- command --help\n",
    "    - i.e. -ls --help\n",
    "\n",
    "#### Explore directory\n",
    "- ls = list\n",
    "- ls -lrS = list reverse order\n",
    "- ls *.txt = print all txt files\n",
    "    - \"*\" represent one or more character\n",
    "\n",
    "#### Current directory\n",
    "- pwd = print working directory\n",
    "\n",
    "#### Navigate directory\n",
    "- cd = change directory (press tab for auto completion)\n",
    "- cd .. = moving up from directory\n",
    "    - cd ../ = moving up to parent directory\n",
    "- cd ~ = change to home directory\n",
    "    - The ~ is shorthand for your Home directory, so '~/Documents' is the Documents folder in your Home folder. \n",
    "\n",
    "#### Create/Remove directory\n",
    "- mkdir dir1 = make directory\n",
    "- rmdir dir1 = remove directory\n",
    "\n",
    "#### Create/Remove file\n",
    "- touch file_name = create file\n",
    "- echo 'This is my content!' > my_new_file\n",
    "    - Creating a file with a small amount of content\n",
    "\n",
    "- rm file_name = remove file\n",
    "\n",
    "#### Copy file\n",
    "- cp file_name directory_name = copy file\n",
    "- cp -r dir2 dir1 = copy recursively all files from diretory2 in dir1\n",
    "- cp dir1/file . = copy file to current working directory (. is shortcut)\n",
    "\n",
    "#### Move file\n",
    "- mv file_name directory_name = move file\n",
    "    - You can think of it as being just like the cp command, except that it deletes the original file/directory. \n",
    "    - mv can also be used to rename files & directories\n",
    "    - i.e. mv main.txt dir1/new.txt\n",
    "- mv 2017-* 2017/ = move all files starting with 2017- to folder 2017\n",
    "- mv  -v ~/Downloads/* ~/Videos/ = moving all files from one folder to the other\n",
    "\n",
    "#### Remove file\n",
    "- rm file_name = remove specific file\n",
    "- rm -rf dir_name = remove all directory\n",
    "    - Be careful when using rm. Unlike Windows Explorer and macOS Finder, there is no Recycle Bin when using the shell. Once you delete a file or a directory you will never be able to get it back. \n",
    "    - This is especially dangerous because it would be very easy to make a typo and run rm -rf /, which would delete every file on your computer. Make sure you never do this!\n",
    "\n",
    "- sudo = super user do\n"
   ]
  },
  {
   "cell_type": "markdown",
   "id": "4ef20cee",
   "metadata": {},
   "source": [
    "### Viewing a file\n",
    "\n",
    "- cat file1 = print file to screen\n",
    "    - The cat command lets you concatenate and print files to the screen.\n",
    "    - The syntax is cat [file1] [file2] [file3] ... and the command will print one file after another. Of course the concatenation feature is rarely used, and the most common usage of cat is printing a single file to the screen.\n",
    " \n",
    "- more file1 = print long file using full screen\n",
    "    - press enter or space to scroll down\n",
    "    - press q to quit\n",
    "\n",
    "- less file1 = print long file to screen\n",
    "    - allows to use arrow to scroll up and down\n",
    "    - less is not installed on the embedded shell above, however you will find it on almost every system you encounter in real life.\n",
    "    \n",
    "- head file1 = print 5 first rows of file\n",
    "    - head -1 file1 = print 1st row\n",
    "\n",
    "- tail file1 = print 5 last rows of ile\n",
    "    - tail -1 file1 = print last row"
   ]
  },
  {
   "cell_type": "markdown",
   "id": "18c8f8f6",
   "metadata": {},
   "source": [
    "### Editing a file\n",
    "\n",
    "- nano - easiest to use, but less powerful than vim. Not always installed.\n",
    "- vim - very powerful, but hard to use. Installed by default on most systems.\n",
    "- vi - prehistoric precursor to vim. Only use this if nano and vim are unavailable on your system.\n",
    "\n",
    "NB: Saving and closing is fairly straight-forward in nano (the keyboard commands are displayed on screen at all times) and basically impossible to remember in vim/vi. If you are going to need to edit files in the shell regularly it is probably worth learning at least some of the basic commands in vim, which can be done by using the vimtutor program installed alongside vim."
   ]
  },
  {
   "cell_type": "markdown",
   "id": "43d9a0df",
   "metadata": {},
   "source": [
    "### Python\n",
    "\n",
    "- python3 file.py = run python script\n",
    "\n",
    "- jupyter console = open jupyter in terminal"
   ]
  },
  {
   "cell_type": "code",
   "execution_count": null,
   "id": "4b85bf02",
   "metadata": {},
   "outputs": [],
   "source": []
  }
 ],
 "metadata": {
  "kernelspec": {
   "display_name": "Python 3",
   "language": "python",
   "name": "python3"
  },
  "language_info": {
   "codemirror_mode": {
    "name": "ipython",
    "version": 3
   },
   "file_extension": ".py",
   "mimetype": "text/x-python",
   "name": "python",
   "nbconvert_exporter": "python",
   "pygments_lexer": "ipython3",
   "version": "3.9.4"
  }
 },
 "nbformat": 4,
 "nbformat_minor": 5
}
